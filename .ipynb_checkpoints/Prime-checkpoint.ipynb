{
 "cells": [
  {
   "cell_type": "code",
   "execution_count": 2,
   "id": "b44849d6-cbe7-4bec-b31b-0ba62dc89b4e",
   "metadata": {},
   "outputs": [],
   "source": [
    "#Prime numbers tasks"
   ]
  },
  {
   "cell_type": "code",
   "execution_count": 3,
   "id": "04780675-1bbd-45f6-a186-189a3dcf58b0",
   "metadata": {},
   "outputs": [],
   "source": [
    "# 1. Task"
   ]
  },
  {
   "cell_type": "code",
   "execution_count": null,
   "id": "654c7dd4-27e7-4c5b-9fc6-76c59df32cbd",
   "metadata": {},
   "outputs": [],
   "source": []
  }
 ],
 "metadata": {
  "kernelspec": {
   "display_name": "Python 3 (ipykernel)",
   "language": "python",
   "name": "python3"
  },
  "language_info": {
   "codemirror_mode": {
    "name": "ipython",
    "version": 3
   },
   "file_extension": ".py",
   "mimetype": "text/x-python",
   "name": "python",
   "nbconvert_exporter": "python",
   "pygments_lexer": "ipython3",
   "version": "3.10.5"
  }
 },
 "nbformat": 4,
 "nbformat_minor": 5
}
